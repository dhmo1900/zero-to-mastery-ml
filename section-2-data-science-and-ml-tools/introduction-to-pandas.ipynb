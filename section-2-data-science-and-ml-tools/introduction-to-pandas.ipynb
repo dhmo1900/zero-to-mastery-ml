{
 "cells": [
  {
   "cell_type": "markdown",
   "metadata": {},
   "source": [
    "# A Quick Introduction to Data Analysis and Manipulation with Python and pandas\n",
    "\n",
    "\n",
    "## What is pandas?\n",
    "\n",
    "If you're getting into machine learning and data science and you're using Python, you're going to use pandas.\n",
    "\n",
    "[pandas](https://pandas.pydata.org/) is an open source library which helps you analyse and manipulate data.\n",
    "\n",
    "<img src=\"../images/pandas-6-step-ml-framework-tools-highlight.png\" alt=\"a 6 step machine learning framework along will tools you can use for each step\" width=\"700\"/>\n",
    "\n",
    "## Why pandas?\n",
    "\n",
    "pandas provides a simple to use but very capable set of functions you can use to on your data.\n",
    "\n",
    "It's integrated with many other data science and machine learning tools which use Python so having an understanding of it will be helpful throughout your journey.\n",
    "\n",
    "One of the main use cases you'll come across is using pandas to transform your data in a way which makes it usable with machine learning algorithms.\n",
    "\n",
    "## What does this notebook cover?\n",
    "\n",
    "Because the pandas library is vast, there's often many ways to do the same thing. This notebook covers some of the most fundamental functions of the library, which are more than enough to get started.\n",
    "\n",
    "## Where can I get help?\n",
    "If you get stuck or think of something you'd like to do which this notebook doesn't cover, don't fear!\n",
    "\n",
    "The recommended steps you take are:\n",
    "1. **Try it** - Since pandas is very friendly, your first step should be to use what you know and try figure out the answer to your own question (getting it wrong is part of the process). If in doubt, run your code.\n",
    "2. **Search for it** - If trying it on your own doesn't work, since someone else has probably tried to do something similar, try searching for your problem. You'll likely end up in 1 of 2 places:\n",
    "    * [pandas documentation](https://pandas.pydata.org/pandas-docs/version/0.25/) - the best place for learning pandas, this resource covers all of the pandas functionality.\n",
    "    * [Stack Overflow](https://stackoverflow.com/) - this is the developers Q&A hub, it's full of questions and answers of different problems across a wide range of software development topics and chances are, there's one related to your problem.\n",
    "    \n",
    "An example of searching for a pandas function might be:\n",
    "\n",
    "> \"how to fill all the missing values of two columns using pandas\"\n",
    "\n",
    "Searching this on Google leads to this post on Stack Overflow: https://stackoverflow.com/questions/36556256/how-do-i-fill-na-values-in-multiple-columns-in-pandas\n",
    "\n",
    "The next steps here are to read through the post and see if it relates to your problem. If it does, great, take the code/information you need and **rewrite it** to suit your own problem.\n",
    "\n",
    "3. **Ask for help** - If you've been through the above 2 steps and you're still stuck, you might want to ask your question on Stack Overflow. Remember to be specific as possible and provide details on what you've tried.\n",
    "\n",
    "Remember, you don't have to learn all of these functions off by heart to begin with. \n",
    "\n",
    "What's most important is remembering to continually ask yourself, \"what am I trying to do with the data?\".\n",
    "\n",
    "Start by answering that question and then practicing finding the code which does it.\n",
    "\n",
    "Let's get started."
   ]
  },
  {
   "cell_type": "markdown",
   "metadata": {},
   "source": [
    "## 0. Importing pandas\n",
    "\n",
    "To get started using pandas, the first step is to import it. \n",
    "\n",
    "The most common way (and method you should use) is to import pandas as the abbreviation `pd`.\n",
    "\n",
    "If you see the letters `pd` used anywhere in machine learning or data science, it's probably referring to the pandas library."
   ]
  },
  {
   "cell_type": "code",
   "execution_count": null,
   "metadata": {},
   "outputs": [],
   "source": [
    "import pandas as pd"
   ]
  },
  {
   "cell_type": "markdown",
   "metadata": {},
   "source": [
    "## 1. Datatypes\n",
    "\n",
    "pandas has two main datatypes, `Series` and `DataFrame`.\n",
    "* `Series` - a 1-dimensional column of data.\n",
    "* `DataFrame` (most common) - a 2-dimesional table of data with rows and columns.\n",
    "\n",
    "You can create a `Series` using `pd.Series()` and passing it a Python list."
   ]
  },
  {
   "cell_type": "code",
   "execution_count": null,
   "metadata": {},
   "outputs": [],
   "source": [
    "# Creating a series of car types\n",
    "cars = pd.Series([\"BMW\", \"Toyota\", \"Honda\"])\n",
    "cars"
   ]
  },
  {
   "cell_type": "code",
   "execution_count": null,
   "metadata": {},
   "outputs": [],
   "source": [
    "# Creating a series of colours\n",
    "colours = pd.Series([\"Blue\", \"Red\", \"White\"])\n",
    "colours"
   ]
  },
  {
   "cell_type": "markdown",
   "metadata": {},
   "source": [
    "You can create a `DataFrame` by using `pd.DataFrame()` and passing it a Python dictionary.\n",
    "\n",
    "Let's use our two `Series` as the values."
   ]
  },
  {
   "cell_type": "code",
   "execution_count": null,
   "metadata": {},
   "outputs": [],
   "source": [
    "# Creating a DataFrame of cars and colours\n",
    "car_data = pd.DataFrame({\"Car type\": cars, \n",
    "                         \"Colour\": colours})"
   ]
  },
  {
   "cell_type": "code",
   "execution_count": null,
   "metadata": {},
   "outputs": [],
   "source": [
    "car_data"
   ]
  },
  {
   "cell_type": "markdown",
   "metadata": {},
   "source": [
    "You can see the keys of the dictionary became the column headings (text in bold) and the values of the two `Series`'s became the values in the DataFrame.\n",
    "\n",
    "It's important to note, many different types of data could go into the DataFrame. \n",
    "\n",
    "Here we've used only text but you could use floats, integers and more."
   ]
  },
  {
   "cell_type": "markdown",
   "metadata": {},
   "source": [
    "### Exercises\n",
    "\n",
    "1. Make a `Series` of different foods.\n",
    "2. Make a `Series` of different dollar values (these can be integers).\n",
    "3. Combine your `Series`'s of foods and dollar values into a `DataFrame`.\n",
    "\n",
    "Try it out for yourself first, then see how your code goes against the solution.\n",
    "\n",
    "**Note:** Make sure your two `Series` are the same size before combining them in a DataFrame."
   ]
  },
  {
   "cell_type": "code",
   "execution_count": null,
   "metadata": {},
   "outputs": [],
   "source": [
    "# Your code here"
   ]
  },
  {
   "cell_type": "code",
   "execution_count": null,
   "metadata": {},
   "outputs": [],
   "source": [
    "# Example solution\n",
    "\n",
    "# Make a Series of different foods\n",
    "foods = pd.Series([\"Almond butter\", \"Eggs\", \"Avocado\"])\n",
    "\n",
    "# Make a Series of different dollar values \n",
    "prices = pd.Series([9, 6, 2])\n",
    "\n",
    "# Combine your Series of foods and dollar values into a DataFrame\n",
    "food_data = pd.DataFrame({\"Foods\": foods,\n",
    "                          \"Price\": prices})\n",
    "\n",
    "food_data"
   ]
  },
  {
   "cell_type": "markdown",
   "metadata": {},
   "source": [
    "## 2. Importing data\n",
    "\n",
    "Creating `Series` and `DataFrame`'s from scratch is nice but what you'll usually be doing is importing your data in the form of a `.csv` (comma separated value) or spreadsheet file.\n",
    "\n",
    "pandas allows for easy importing of data like this through functions such as `pd.read_csv()` and `pd.read_excel()` (for Microsoft Excel files).\n",
    "\n",
    "Say you wanted to get this information from this Google Sheet document into a pandas `DataFrame`. \n",
    "\n",
    "<img src=\"../images/pandas-car-sales-csv.png\" alt=\"spreadsheet with car sales information\" width=\"600\">\n",
    "\n",
    "You could export it as a `.csv` file and then import it using `pd.read_csv()`.\n",
    "\n",
    "In this case, the exported `.csv` file is called `car-sales.csv`."
   ]
  },
  {
   "cell_type": "code",
   "execution_count": null,
   "metadata": {},
   "outputs": [],
   "source": [
    "# Import car sales data\n",
    "car_sales = pd.read_csv(\"../data/car-sales.csv\") # takes a filename as string as input\n",
    "car_sales"
   ]
  },
  {
   "cell_type": "markdown",
   "metadata": {},
   "source": [
    "Now we've got the same data from the spreadsheet available in a pandas `DataFrame` called `car_sales`. \n",
    "\n",
    "Having your data available in a `DataFrame` allows you to take advantage of all of pandas functionality on it.\n",
    "\n",
    "Another common practice you'll see is data being imported to `DataFrame` called `df` (short for `DataFrame`)."
   ]
  },
  {
   "cell_type": "code",
   "execution_count": null,
   "metadata": {},
   "outputs": [],
   "source": [
    "# Import the car sales data and save it to df\n",
    "df = pd.read_csv(\"../data/car-sales.csv\")\n",
    "df"
   ]
  },
  {
   "cell_type": "markdown",
   "metadata": {},
   "source": [
    "Now `car_sales` and `df` contain the exact same information, the only difference is the name. Like any other variable, you can name your `DataFrame`'s whatever you want. But best to choose something simple.\n",
    "\n",
    "### Anatomy of a DataFrame\n",
    "\n",
    "Different functions use different labels for different things. This graphic sums up some of the main components of `DataFrame`'s and their different names.\n",
    "\n",
    "<img src=\"../images/pandas-dataframe-anatomy.png\" alt=\"pandas dataframe with different sections labelled\" width=\"800\"/>\n"
   ]
  },
  {
   "cell_type": "markdown",
   "metadata": {},
   "source": [
    "## 3. Exporting data\n",
    "\n",
    "After you've made a few changes to your data, you might want to export it and save it so someone else can access the changes.\n",
    "\n",
    "pandas allows you to export `DataFrame`'s to `.csv` format using `.to_csv()` or spreadsheet format using `.to_excel()`.\n",
    "\n",
    "We haven't made any changes yet to the `car_sales` `DataFrame` but let's try export it."
   ]
  },
  {
   "cell_type": "code",
   "execution_count": null,
   "metadata": {},
   "outputs": [],
   "source": [
    "# Export the car sales DataFrame to csv\n",
    "car_sales.to_csv(\"../data/exported-car-sales.csv\")"
   ]
  },
  {
   "cell_type": "markdown",
   "metadata": {},
   "source": [
    "Running this will save a file called `export-car-sales.csv` to the current folder.\n",
    "\n",
    "<img src=\"../images/pandas-exported-car-sales-csv.png\" alt=\"folder with exported car sales csv file highlighted\" width=\"600\"/>"
   ]
  },
  {
   "cell_type": "markdown",
   "metadata": {},
   "source": [
    "## Exercises\n",
    "\n",
    "1. Practice importing a `.csv` file using `pd.read_csv()`, you can download `heart-disease.csv`. This file contains annonymous patient medical records and whether or not they have heart disease.\n",
    "2. Practice exporting a `DataFrame` using `.to_csv()`. You could export the heart disease `DataFrame` after you've imported it.\n",
    "\n",
    "**Note:** \n",
    "* Make sure the `heart-disease.csv` file is in the same folder as your notebook orbe sure to use the filepath where the file is.\n",
    "* You can name the variables and exported files whatever you like but make sure they're readable."
   ]
  },
  {
   "cell_type": "code",
   "execution_count": null,
   "metadata": {},
   "outputs": [],
   "source": [
    "# Your code here\n"
   ]
  },
  {
   "cell_type": "markdown",
   "metadata": {},
   "source": [
    "### Example solution"
   ]
  },
  {
   "cell_type": "code",
   "execution_count": null,
   "metadata": {},
   "outputs": [],
   "source": [
    "# Importing heart-disease.csv\n",
    "patient_data = pd.read_csv(\"../data/heart-disease.csv\")\n",
    "patient_data"
   ]
  },
  {
   "cell_type": "code",
   "execution_count": null,
   "metadata": {},
   "outputs": [],
   "source": [
    "# Exporting the patient_data DataFrame to csv\n",
    "patient_data.to_csv(\"../data/exported-patient-data.csv\")"
   ]
  },
  {
   "cell_type": "markdown",
   "metadata": {},
   "source": [
    "<img src=\"../images/pandas-exported-patient-data-csv.png\" alt=\"folder containing exported patient data csv file\" width=\"600\"/>"
   ]
  },
  {
   "cell_type": "markdown",
   "metadata": {},
   "source": [
    "## 4. Describing data\n",
    "\n",
    "One of the first things you'll want to do after you import some data into a pandas `DataFrame` is to start exploring it.\n",
    "\n",
    "pandas has many built in functions which allow you to quickly get information about a `DataFrame`.\n",
    "\n",
    "Let's explore some using the `car_sales` `DataFrame`."
   ]
  },
  {
   "cell_type": "code",
   "execution_count": null,
   "metadata": {},
   "outputs": [],
   "source": [
    "car_sales"
   ]
  },
  {
   "cell_type": "markdown",
   "metadata": {},
   "source": [
    "`.dtypes` shows us what datatype each column contains."
   ]
  },
  {
   "cell_type": "code",
   "execution_count": null,
   "metadata": {},
   "outputs": [],
   "source": [
    "car_sales.dtypes"
   ]
  },
  {
   "cell_type": "markdown",
   "metadata": {},
   "source": [
    "Notice how the `Price` column isn't an integer like `Odometer` or `Doors`. Don't worry, pandas makes this easy to fix."
   ]
  },
  {
   "cell_type": "markdown",
   "metadata": {},
   "source": [
    "`.describe()` gives you a quick statistical overview of the numerical columns."
   ]
  },
  {
   "cell_type": "code",
   "execution_count": null,
   "metadata": {},
   "outputs": [],
   "source": [
    "car_sales.describe()"
   ]
  },
  {
   "cell_type": "markdown",
   "metadata": {},
   "source": [
    "`.info()` shows a handful of useful information about a `DataFrame` such as: \n",
    "* How many entries (rows) there are \n",
    "* Whether there are missing values (if a columns non-null value is less than the number of entries, it has missing values)\n",
    "* The datatypes of each column"
   ]
  },
  {
   "cell_type": "code",
   "execution_count": null,
   "metadata": {},
   "outputs": [],
   "source": [
    "car_sales.info()"
   ]
  },
  {
   "cell_type": "markdown",
   "metadata": {},
   "source": [
    "You can also call various statistical and mathematical methods such as `.mean()` or `.sum()` directly on a `DataFrame` or `Series`."
   ]
  },
  {
   "cell_type": "code",
   "execution_count": null,
   "metadata": {},
   "outputs": [],
   "source": [
    "# Calling .mean() on a DataFrame\n",
    "car_sales.mean()"
   ]
  },
  {
   "cell_type": "code",
   "execution_count": null,
   "metadata": {},
   "outputs": [],
   "source": [
    "# Calling .mean() on a Series\n",
    "car_prices = pd.Series([3000, 3500, 11250])\n",
    "car_prices.mean()"
   ]
  },
  {
   "cell_type": "code",
   "execution_count": null,
   "metadata": {},
   "outputs": [],
   "source": [
    "# Calling .sum() on a DataFrame\n",
    "car_sales.sum()"
   ]
  },
  {
   "cell_type": "code",
   "execution_count": null,
   "metadata": {},
   "outputs": [],
   "source": [
    "# Calling .sum() on a Series\n",
    "car_prices.sum()"
   ]
  },
  {
   "cell_type": "markdown",
   "metadata": {},
   "source": [
    "Calling these on a whole `DataFrame` may not be as helpful as targeting an individual column. But it's helpful to know they're there.\n",
    "\n",
    "`.columns` will show you all the columns of a `DataFrame`."
   ]
  },
  {
   "cell_type": "code",
   "execution_count": null,
   "metadata": {},
   "outputs": [],
   "source": [
    "car_sales.columns"
   ]
  },
  {
   "cell_type": "markdown",
   "metadata": {},
   "source": [
    "You can save them to a list which you could use later."
   ]
  },
  {
   "cell_type": "code",
   "execution_count": null,
   "metadata": {},
   "outputs": [],
   "source": [
    "# Save car_sales columns to a list \n",
    "car_columns = car_sales.columns\n",
    "car_columns[0]"
   ]
  },
  {
   "cell_type": "markdown",
   "metadata": {},
   "source": [
    "`.index` will show you the values in a `DataFrame`'s index (the column on the far left)."
   ]
  },
  {
   "cell_type": "code",
   "execution_count": null,
   "metadata": {},
   "outputs": [],
   "source": [
    "car_sales.index"
   ]
  },
  {
   "cell_type": "markdown",
   "metadata": {},
   "source": [
    "pandas `DataFrame`'s, like Python lists, are 0-indexed (unless otherwise changed). This means they start at 0. \n",
    "\n",
    "<img src=\"../images/pandas-dataframe-zero-indexed.png\" alt=\"dataframe with index number 0 highlighted\" width=\"700\"/>"
   ]
  },
  {
   "cell_type": "code",
   "execution_count": null,
   "metadata": {},
   "outputs": [],
   "source": [
    "# Show the length of a DataFrame\n",
    "len(car_sales)"
   ]
  },
  {
   "cell_type": "markdown",
   "metadata": {},
   "source": [
    "So even though the length of our `car_sales` dataframe is 10, this means the indexes go from 0-9."
   ]
  },
  {
   "cell_type": "markdown",
   "metadata": {},
   "source": [
    "## 5. Viewing and selecting data\n",
    "* `head()`\n",
    "* `tail()`\n",
    "* `loc`\n",
    "* `iloc`\n",
    "* `columns` - `df['A']`\n",
    "* boolean indexing - `df[df['A'] > 5]`\n",
    "* `crosstab()`\n",
    "* `.plot()`\n",
    "* `hist()`\n",
    "\n",
    "In practice, you'll constantly be making changes to your data, and viewing it. Changing it, viewing it, changing it, viewing it.\n",
    "\n",
    "You won't always want to change all of the data in your `DataFrame`'s either. So there are just as many different ways to select data as there is to view it.\n",
    "\n",
    "`.head()` allows you to view the first 5 rows of your `DataFrame`. You'll likely be using this one a lot. "
   ]
  },
  {
   "cell_type": "code",
   "execution_count": null,
   "metadata": {},
   "outputs": [],
   "source": [
    "# Show the first 5 rows of car_sales\n",
    "car_sales.head()"
   ]
  },
  {
   "cell_type": "markdown",
   "metadata": {},
   "source": [
    "Why 5 rows? Good question. I don't know the answer. But 5 seems like a good amount.\n",
    "\n",
    "Want more than 5?\n",
    "\n",
    "No worries, you can pass `.head()` an integer to display more than or less than 5 rows."
   ]
  },
  {
   "cell_type": "code",
   "execution_count": null,
   "metadata": {},
   "outputs": [],
   "source": [
    "# Show the first 7 rows of car_sales\n",
    "car_sales.head(7)"
   ]
  },
  {
   "cell_type": "markdown",
   "metadata": {},
   "source": [
    "`.tail()` allows you to see the bottom 5 rows of your `DataFrame`. This is helpful if your changes are influencing the bottom rows of your data."
   ]
  },
  {
   "cell_type": "code",
   "execution_count": null,
   "metadata": {},
   "outputs": [],
   "source": [
    "# Show bottom 5 rows of car_sales\n",
    "car_sales.tail()"
   ]
  },
  {
   "cell_type": "markdown",
   "metadata": {},
   "source": [
    "You can use `.loc[]` and `.iloc[]` to select data from your `Series` and `DataFrame`'s.\n",
    "\n",
    "Let's see."
   ]
  },
  {
   "cell_type": "code",
   "execution_count": null,
   "metadata": {},
   "outputs": [],
   "source": [
    "# Create a sample series\n",
    "animals = pd.Series([\"cat\", \"dog\", \"bird\", \"snake\", \"ox\", \"lion\"], \n",
    "                   index=[0, 3, 9, 8, 67, 3])\n",
    "aniamls"
   ]
  },
  {
   "cell_type": "markdown",
   "metadata": {},
   "source": [
    "`.loc[]` takes an integer as input. And it chooses from your `Series` or `DataFrame` whichever index matches the number."
   ]
  },
  {
   "cell_type": "code",
   "execution_count": null,
   "metadata": {},
   "outputs": [],
   "source": [
    "# Select all indexes with 3\n",
    "animals.loc[3]"
   ]
  },
  {
   "cell_type": "code",
   "execution_count": null,
   "metadata": {},
   "outputs": [],
   "source": [
    "# Select index 9\n",
    "animals.loc[9]"
   ]
  },
  {
   "cell_type": "markdown",
   "metadata": {},
   "source": [
    "Let's try with our `car_sales` DataFrame."
   ]
  },
  {
   "cell_type": "code",
   "execution_count": null,
   "metadata": {},
   "outputs": [],
   "source": [
    "car_sales"
   ]
  },
  {
   "cell_type": "code",
   "execution_count": null,
   "metadata": {},
   "outputs": [],
   "source": [
    "# Select row at index 3\n",
    "car_sales.loc[3]"
   ]
  },
  {
   "cell_type": "markdown",
   "metadata": {},
   "source": [
    "`iloc[]` does a similar thing but works with exact positions.\n"
   ]
  },
  {
   "cell_type": "code",
   "execution_count": null,
   "metadata": {},
   "outputs": [],
   "source": [
    "animals"
   ]
  },
  {
   "cell_type": "code",
   "execution_count": null,
   "metadata": {},
   "outputs": [],
   "source": [
    "# Select row at position 3\n",
    "aniamls.iloc[3]"
   ]
  },
  {
   "cell_type": "markdown",
   "metadata": {},
   "source": [
    "Even though `'snake'` appears at index 8 in the series, it's shown using `.iloc[3]` because it's at the 3rd (starting from 0) position.\n",
    "\n",
    "Let's try with the `car_sales` `DataFrame`."
   ]
  },
  {
   "cell_type": "code",
   "execution_count": null,
   "metadata": {},
   "outputs": [],
   "source": [
    "# Select row at position 3\n",
    "car_sales.iloc[3]"
   ]
  },
  {
   "cell_type": "markdown",
   "metadata": {},
   "source": [
    "You can see it's the same as `.loc[]` because the index is in order, position 3 is the same as index 3.\n",
    "\n",
    "You can also use slicing with `.loc[]` and `.iloc[]`."
   ]
  },
  {
   "cell_type": "code",
   "execution_count": null,
   "metadata": {},
   "outputs": [],
   "source": [
    "# Get all rows up to position 3\n",
    "animals.iloc[:3]"
   ]
  },
  {
   "cell_type": "code",
   "execution_count": null,
   "metadata": {},
   "outputs": [],
   "source": [
    "# Get all rows up to (and including) index 3\n",
    "car_sales.loc[:3]"
   ]
  },
  {
   "cell_type": "markdown",
   "metadata": {},
   "source": [
    "When should you use `.loc[]` or `.iloc[]`?\n",
    "* Use `.loc[]` when you're referring to **indexes**.\n",
    "* Use `.iloc[]` when you're referring to **positions** in the `DataFrame` (index is out of order)."
   ]
  },
  {
   "cell_type": "markdown",
   "metadata": {},
   "source": [
    "If you want to select a particular column, you can use `['COLUMN_NAME']`."
   ]
  },
  {
   "cell_type": "code",
   "execution_count": null,
   "metadata": {},
   "outputs": [],
   "source": [
    "# Select Make column\n",
    "car_sales['Make']"
   ]
  },
  {
   "cell_type": "code",
   "execution_count": null,
   "metadata": {},
   "outputs": [],
   "source": [
    "# Select Colour column\n",
    "car_sales['Colour']"
   ]
  },
  {
   "cell_type": "markdown",
   "metadata": {},
   "source": [
    "Boolean indexing works with column selection too. Using it will select the rows which fulfill the condition in the brackets."
   ]
  },
  {
   "cell_type": "code",
   "execution_count": null,
   "metadata": {},
   "outputs": [],
   "source": [
    "# Select cars with over 100,000 on the Odometer\n",
    "car_sales[car_sales[\"Odometer (KM)\"] > 100000]"
   ]
  },
  {
   "cell_type": "code",
   "execution_count": null,
   "metadata": {},
   "outputs": [],
   "source": [
    "# Select cars which are made by Toyota\n",
    "car_sales[car_sales[\"Make\"] == \"Toyota\"]"
   ]
  },
  {
   "cell_type": "markdown",
   "metadata": {},
   "source": [
    "`pd.crosstab()` is a great way to view two different columns together and compare them."
   ]
  },
  {
   "cell_type": "code",
   "execution_count": null,
   "metadata": {},
   "outputs": [],
   "source": [
    "# Compare car Make with number of Doors\n",
    "pd.crosstab(car_sales[\"Make\"], car_sales[\"Doors\"])"
   ]
  },
  {
   "cell_type": "markdown",
   "metadata": {},
   "source": [
    "If you want to compare more columns in the context of another column, you can use `.groupby()`."
   ]
  },
  {
   "cell_type": "code",
   "execution_count": null,
   "metadata": {},
   "outputs": [],
   "source": [
    "car_sales"
   ]
  },
  {
   "cell_type": "code",
   "execution_count": null,
   "metadata": {},
   "outputs": [],
   "source": [
    "# Group by the Make column and find the mean of the other columns \n",
    "car_sales.groupby([\"Make\"]).mean()"
   ]
  },
  {
   "cell_type": "markdown",
   "metadata": {},
   "source": [
    "pandas even allows for quick plotting of columns so you can see your data visualling. To plot, you'll have to import `matplotlib`. If your plots aren't showing, try running the two lines of code below.\n",
    "\n",
    "`%matplotlib inline` is a special command which tells Jupyter to show your plots. Commands with `%` at the front are called magic commands."
   ]
  },
  {
   "cell_type": "code",
   "execution_count": null,
   "metadata": {},
   "outputs": [],
   "source": [
    "# Import matplotlib and tell Jupyter to show plots\n",
    "import matplotlib.pyplot as plt\n",
    "%matplotlib inline"
   ]
  },
  {
   "cell_type": "markdown",
   "metadata": {},
   "source": [
    "You can visualize a column by calling `.plot()` on it."
   ]
  },
  {
   "cell_type": "code",
   "execution_count": null,
   "metadata": {},
   "outputs": [],
   "source": [
    "car_sales[\"Odometer\"].plot()"
   ]
  },
  {
   "cell_type": "markdown",
   "metadata": {},
   "source": [
    "You can see the distribution of a column by calling `.hist()` on you.\n",
    "\n",
    "The distribution of something is a way of describing the spread of different values."
   ]
  },
  {
   "cell_type": "code",
   "execution_count": null,
   "metadata": {},
   "outputs": [],
   "source": [
    "car_sales[\"Odometer\"].hist()"
   ]
  },
  {
   "cell_type": "markdown",
   "metadata": {},
   "source": [
    "In this case, the majority of the **distribution** (spread) of the `\"Odometer\"` column is more towards the left of the graph. And there are two values which are more to the right. These two values to the right could be considered **outliers** (not part of the majority).\n",
    "\n",
    "Now what if we wanted to plot our `\"Price\"` column?\n",
    "\n",
    "Let's try."
   ]
  },
  {
   "cell_type": "code",
   "execution_count": null,
   "metadata": {},
   "outputs": [],
   "source": [
    "car_sales[\"Price\"].plot()"
   ]
  },
  {
   "cell_type": "markdown",
   "metadata": {},
   "source": [
    "Trying to run it leaves us with an error. This is because the `\"Price\"` column of `car_sales` isn't in numeric form. We can tell this because of the `TypeError: no numeric data to plot` at the bottom of the cell.\n",
    "\n",
    "We can check this with `.info()`."
   ]
  },
  {
   "cell_type": "code",
   "execution_count": null,
   "metadata": {},
   "outputs": [],
   "source": [
    "car_sales.info()"
   ]
  },
  {
   "cell_type": "markdown",
   "metadata": {},
   "source": [
    "So what can we do?\n",
    "\n",
    "We need to convert the `\"Price\"` column to a numeric type.\n",
    "\n",
    "How?\n",
    "\n",
    "We could try a few different things on our own. But let's practice researching.\n",
    "\n",
    "\n",
    "\n",
    "**1.** Open up a search engine and type in something like \"how to convert a pandas column price to integer\".\n",
    "\n",
    "In the first result, I found this [Stack Overflow question and answer](https://stackoverflow.com/questions/44469313/price-column-object-to-int-in-pandas) . Where someone has had the same problem as us and someone else has provided an answer.\n",
    "\n",
    "**Note:** Sometimes the answer you're looking for won't be in the first result, or the 2nd or the 3rd. You may have to combine a few different solutions.\n",
    "\n",
    "**2.** In practice, you'd read through this and see if it relates to your problem. \n",
    "\n",
    "**3.** If it does, you can adjust the code from what's given in the Stack Overflow answer(s) to your own problem.\n",
    "\n",
    "<img src=\"../images/pandas-steps-in-stack-overflow-process.png\" alt=\"steps in researching a problem you have using Google and Stack Overflow\" width=\"1000\"/>\n",
    "\n",
    "What's important in the beginning is not to remember every single detail off by heart but to know where to look. Remember, if in doubt, write code, run it, see what happens.\n",
    "\n",
    "Let's copy the answer code here and see how it relates to our problem.\n",
    "\n",
    "Answer code: ```dataframe['amount'] = dataframe['amount'].str.replace('[\\$\\,\\.]', '').astype(int)```\n",
    "\n",
    "There's a lot going on here but what we can do is change the parts which aren't in our problem and keep the rest the same.\n",
    "\n",
    "Our `DataFrame` is called `car_sales` not `dataframe`.\n",
    "\n",
    "```car_sales['amount'] = car_sales['amount'].str.replace('[\\$\\,\\.]', '').astype(int)```\n",
    "\n",
    "And our `'amount'` column is called `\"Price\"`.\n",
    "\n",
    "```car_sales[\"Price\"] = car_sales[\"Price\"].str.replace('[\\$\\,\\.]', '').astype(int)```\n",
    "\n",
    "That looks better. What the code on the right of `car_sales[\"Price\"]` is saying is \"remove the $ sign and comma and change the type of the cell to int\".\n",
    "\n",
    "Let's see what happens."
   ]
  },
  {
   "cell_type": "code",
   "execution_count": null,
   "metadata": {},
   "outputs": [],
   "source": [
    "# Change Price column to integers\n",
    "car_sales[\"Price\"] = car_sales[\"Price\"].str.replace('[\\$\\,\\.]', '').astype(int)"
   ]
  },
  {
   "cell_type": "code",
   "execution_count": null,
   "metadata": {},
   "outputs": [],
   "source": [
    "car_sales"
   ]
  },
  {
   "cell_type": "markdown",
   "metadata": {},
   "source": [
    "Beautiful! Now let's try to plot it agian."
   ]
  },
  {
   "cell_type": "code",
   "execution_count": null,
   "metadata": {},
   "outputs": [],
   "source": [
    "car_sales[\"Price\"].plot()"
   ]
  },
  {
   "cell_type": "markdown",
   "metadata": {},
   "source": [
    "This is one of the many ways you can manipulate data using pandas. \n",
    "\n",
    "When you see a number of different functions in a row, it's referred to as **chaining**. This means you add together a series of functions all to do one overall task.\n",
    "\n",
    "Let's see a few more ways of manipulating data."
   ]
  },
  {
   "cell_type": "markdown",
   "metadata": {},
   "source": [
    "## 6. Manipulating data\n",
    "\n",
    "You've seen an example of one way to manipulate data but pandas has many more. How many more? Put it this way, if you can imagine it, chances are, pandas can do it.\n",
    "\n",
    "Let's start with string methods. Because pandas is based on Python, however you can manipulate strings in Python, you can do the same in pandas.\n",
    "\n",
    "You can access the string value of a column using `.str`. Knowing this, how do you think you'd set a column to lowercase?"
   ]
  },
  {
   "cell_type": "code",
   "execution_count": null,
   "metadata": {},
   "outputs": [],
   "source": [
    "# Lower the Make column\n",
    "car_sales[\"Make\"].str.lower()"
   ]
  },
  {
   "cell_type": "markdown",
   "metadata": {},
   "source": [
    "Notice how it doesn't change the values of the original `car_sales` `DataFrame` unless we set it equal to."
   ]
  },
  {
   "cell_type": "code",
   "execution_count": null,
   "metadata": {},
   "outputs": [],
   "source": [
    "# View top 5 rows, Make column not lowered\n",
    "car_sales.head()"
   ]
  },
  {
   "cell_type": "code",
   "execution_count": null,
   "metadata": {},
   "outputs": [],
   "source": [
    "# Set Make column to be lowered\n",
    "car_sales[\"Make\"] = car_sales[\"Make\"].str.lower()\n",
    "car_sales.head()"
   ]
  },
  {
   "cell_type": "markdown",
   "metadata": {},
   "source": [
    "Reassigning the column changes it in the original `DataFrame`. This trend occurs throughout all kinds of data manipulation with pandas.\n",
    "\n",
    "Some functions have a parameter called `inplace` which means a `DataFrame` is updated in place without having to reassign it.\n",
    "\n",
    "Let's see what it looks like in combination with `.fillna()`, a function which fills missing data. But the thing is, our table isn't missing any data.\n",
    "\n",
    "In practice, it's likely you'll work with datasets which aren't complete. What this means is you'll have to decide whether how to fill the missing data or remove the rows which have data missing.\n",
    "\n",
    "Let's check out what a version of our `car_sales` `DataFrame` might look like with missing values."
   ]
  },
  {
   "cell_type": "code",
   "execution_count": null,
   "metadata": {},
   "outputs": [],
   "source": [
    "# Import car sales data with missing values\n",
    "car_sales_missing = pd.read_csv(\"car-sales-missing-data.csv\")\n",
    "car_sales_missing"
   ]
  },
  {
   "cell_type": "markdown",
   "metadata": {},
   "source": [
    "Missing values are shown by `NaN` in pandas. This can be considered the equivalent of `None` in Python.\n",
    "\n",
    "Let's use the `.fillna()` function to fill the `Odometer` column with the average of the other values in the same column.\n",
    "\n",
    "We'll do it with and without `inplace`."
   ]
  },
  {
   "cell_type": "code",
   "execution_count": null,
   "metadata": {},
   "outputs": [],
   "source": [
    "# Fill Odometer column missing values with mean\n",
    "car_sales_missening[\"Odometer\"].fillna(car_sales_missing[\"Odometer\"].mean(), \n",
    "                                     inplace=False) # inplace is set to False by default "
   ]
  },
  {
   "cell_type": "markdown",
   "metadata": {},
   "source": [
    "Now let's check the original `car_sales_missing` `DataFrame`."
   ]
  },
  {
   "cell_type": "code",
   "execution_count": null,
   "metadata": {},
   "outputs": [],
   "source": [
    "car_sales_missing"
   ]
  },
  {
   "cell_type": "markdown",
   "metadata": {},
   "source": [
    "Because `inplace` is set to `False` (default), there's still missing values in the `\"Odometer\"` column. Let's try setting `inplace` to `True`."
   ]
  },
  {
   "cell_type": "code",
   "execution_count": null,
   "metadata": {},
   "outputs": [],
   "source": [
    "# Fill the Odometer missing values to the mean with inplace=True\n",
    "car_sales_missing[\"Odometer\"].fillna(car_sales_missing[\"Odometer\"].mean(),\n",
    "                                     inplace=True)"
   ]
  },
  {
   "cell_type": "markdown",
   "metadata": {},
   "source": [
    "Now let's check the `car_sales_missing` `DataFrame` again."
   ]
  },
  {
   "cell_type": "code",
   "execution_count": null,
   "metadata": {},
   "outputs": [],
   "source": [
    "car_sales_missing"
   ]
  },
  {
   "cell_type": "markdown",
   "metadata": {},
   "source": [
    "The missing values in the `Odometer` column have been filled with the mean value of the same column.\n",
    "\n",
    "In practice, you might not want to fill a column's missing values with the mean, but this example was to show the difference between `inplace=False` (default) and `inplace=True`.\n",
    "\n",
    "Whichever you choose to use will depend on how you structure your code. All you have to remember is `inplace=False` returns a copy of the `DataFrame` you're working with. This is helpful if you want to make a duplicate of your current `DataFrame` and save it to another variable.\n",
    "\n",
    "We've filled some values but there's still missing values in `car_sales_missing`. Let's say you wanted to remove any rows which had missing data and only work with rows which had complete coverage.\n",
    "\n",
    "You can do this using `.dropna()`."
   ]
  },
  {
   "cell_type": "code",
   "execution_count": null,
   "metadata": {},
   "outputs": [],
   "source": [
    "# Remove missing data\n",
    "car_sales_missing.dropna()"
   ]
  },
  {
   "cell_type": "markdown",
   "metadata": {},
   "source": [
    "It appears the rows with missing values have been removed, now let's check to make sure."
   ]
  },
  {
   "cell_type": "code",
   "execution_count": null,
   "metadata": {},
   "outputs": [],
   "source": [
    "car_sales_missing"
   ]
  },
  {
   "cell_type": "markdown",
   "metadata": {},
   "source": [
    "Hmm, they're still there, can you guess why?\n",
    "\n",
    "It's because `.dropna()` has `inplace=False` as default. We can either set `inplace=True` or reassign the `car_sales_missing` `DataFrame`."
   ]
  },
  {
   "cell_type": "code",
   "execution_count": null,
   "metadata": {},
   "outputs": [],
   "source": [
    "# The following two lines do the same thing\n",
    "car_sales_missing.dropna(inplace=True) # Operation happens inplace without reassignment\n",
    "car_sales_missing = car_sales_missing.dropna() # car_sales_missing gets reassigned to same DataFrame but with dropped values  "
   ]
  },
  {
   "cell_type": "markdown",
   "metadata": {},
   "source": [
    "Now if check again, the rows with missing values are gone and the index numbers have been updated."
   ]
  },
  {
   "cell_type": "code",
   "execution_count": null,
   "metadata": {},
   "outputs": [],
   "source": [
    "car_sales_missing"
   ]
  },
  {
   "cell_type": "markdown",
   "metadata": {},
   "source": [
    "Instead of removing or filling data, what if you wanted to create it?\n",
    "\n",
    "For example, creating a column called `Seats` for number of seats.\n",
    "\n",
    "pandas allows for simple extra column creation on `DataFrame`'s. Three common ways are adding a `Series`, Python list or by using existing columns."
   ]
  },
  {
   "cell_type": "code",
   "execution_count": null,
   "metadata": {},
   "outputs": [],
   "source": [
    "# Create a column from a pandas Series\n",
    "seats_column = pd.Series([5, 5, 5, 5, 5, 5, 5, 5, 5, 5])\n",
    "car_sales[\"Seats\"] = seats_column\n",
    "car_sales"
   ]
  },
  {
   "cell_type": "markdown",
   "metadata": {},
   "source": [
    "Creating a column is similar to selecting a column, you pass the target `DataFrame` along with a new column name in brackets."
   ]
  },
  {
   "cell_type": "code",
   "execution_count": null,
   "metadata": {},
   "outputs": [],
   "source": [
    "# Create a column from a Python list\n",
    "engine_sizes = [1.3, 2.0, 3.0, 4.2, 1.6, 1, 2.0, 2.3, 2.0, 3.0]\n",
    "car_sales[\"Engine Size\"] = engine_sizes\n",
    "car_sales"
   ]
  },
  {
   "cell_type": "markdown",
   "metadata": {},
   "source": [
    "You can also make a column by directly combining the values of other columns. Such as, price per kilometre on the Odometer."
   ]
  },
  {
   "cell_type": "code",
   "execution_count": null,
   "metadata": {},
   "outputs": [],
   "source": [
    "# Column from other columns\n",
    "car_sales[\"Price per KM\"] = car_sales[\"Price\"] / car_sales[\"Odometer\"]\n",
    "car_sales"
   ]
  },
  {
   "cell_type": "markdown",
   "metadata": {},
   "source": [
    "Now can you think why this might not be a great column to add?\n",
    "\n",
    "It could be confusing when a car with less kilometers on the odometer looks to cost more per kilometre than one with more. When buying a car, usually less kilometres on the odometer is better.\n",
    "\n",
    "This kind of column creation is called **feature engineering**. If `Make`, `Colour`, `Doors` are features of the data, creating `Price per KM` could be another. But in this case, not a very good one.\n",
    "\n",
    "As for column creation, you can also create a new column setting all values to a one standard value."
   ]
  },
  {
   "cell_type": "code",
   "execution_count": null,
   "metadata": {},
   "outputs": [],
   "source": [
    "# Column to all 1 value (number of wheels)\n",
    "car_sales[\"Number of wheels\"] = 4\n",
    "car_sales"
   ]
  },
  {
   "cell_type": "code",
   "execution_count": null,
   "metadata": {},
   "outputs": [],
   "source": [
    "car_sales[\"Passed road safety\"] = True\n",
    "car_sales"
   ]
  },
  {
   "cell_type": "markdown",
   "metadata": {},
   "source": [
    "Now you've created some columns, you decide to show your colleague what you've done. When they ask about the `Price per KM` column, you tell them you're not really sure why it's there.\n",
    "\n",
    "You decide you better remove it to prevent confusion.\n",
    "\n",
    "You can remove a column using `.drop('COLUMN_NAME', axis=1)`."
   ]
  },
  {
   "cell_type": "code",
   "execution_count": null,
   "metadata": {},
   "outputs": [],
   "source": [
    "# Drop the Price per KM column\n",
    "car_sales = car_sales.drop(\"Price per KM\", axis=1)\n",
    "car_sales"
   ]
  },
  {
   "cell_type": "markdown",
   "metadata": {},
   "source": [
    "Why `axis=1`? Because that's the axis columns live on. Rows live on `axis=0`.\n",
    "\n",
    "Let's say you wanted to shuffle the order of your `DataFrame` so you could split it into train, validation and test sets. And even though the order of your samples was random, you wanted to make sure.\n",
    "\n",
    "To do so you could use `.sample(frac=1)`. \n",
    "\n",
    "`.sample()` randomly samples different rows from a `DataFrame`. The `frac` parameter dictates the fraction, where 1 = 100% of rows, 0.5 = 50% of rows, 0.01 = 1% of rows."
   ]
  },
  {
   "cell_type": "code",
   "execution_count": null,
   "metadata": {},
   "outputs": [],
   "source": [
    "# Sample car_sales\n",
    "car_sales_sampled = car_sales.sample(frac=1)\n",
    "car_sales_sampled"
   ]
  },
  {
   "cell_type": "markdown",
   "metadata": {},
   "source": [
    "Notice how the rows remain intact but their order is mixed (check the indexes).\n",
    "\n",
    "`.sample(frac=X)` is also helpful when you're working with a large `DataFrame`. Say you had 2,000,000 rows.\n",
    "\n",
    "Running tests, analysis and machine learning algorithms on 2,000,000 rows could take a long time. And since being a data scientist or machine learning engineer is about reducing the time between experiments, you might begin with a sample of rows first.\n",
    "\n",
    "For example, you could use `40k_rows = 2_mil_rows.sample(frac=0.05)` to work on 40,000 rows from a `DataFrame` called `2_mil_rows` containing 2,000,000 rows.\n",
    "\n",
    "What if you wanted to get the indexes back in order?\n",
    "\n",
    "You could do so using `.reset_index()`."
   ]
  },
  {
   "cell_type": "code",
   "execution_count": null,
   "metadata": {},
   "outputs": [],
   "source": [
    "# Reset the indexes of car_sales_sampled\n",
    "car_sales_sampled.reset_index()"
   ]
  },
  {
   "cell_type": "markdown",
   "metadata": {},
   "source": [
    "Calling `.reset_index()` on a `DataFrame` resets the index numbers to their defaults. It also creates a new `Index` column by default which contains the previous index values.\n",
    "\n",
    "Finally, what if you wanted to apply a function to a column. Such as, converting the `Odometer` column from kilometers to miles.\n",
    "\n",
    "You can do so using the `.apply()` function and passing it a lambda function. We know there's about 1.6 kilometers in a mile, so if you divide the value in the `Odometer` column by 1.6, it should convert it to miles."
   ]
  },
  {
   "cell_type": "code",
   "execution_count": null,
   "metadata": {},
   "outputs": [],
   "source": [
    "# Change the Odometer values from kilometres to miles\n",
    "car_sales[\"Odometer\"].apply(lambda x: x / 1.6)"
   ]
  },
  {
   "cell_type": "markdown",
   "metadata": {},
   "source": [
    "Now let's check our `car_sales` `DataFrame`."
   ]
  },
  {
   "cell_type": "code",
   "execution_count": null,
   "metadata": {},
   "outputs": [],
   "source": [
    "car_sales"
   ]
  },
  {
   "cell_type": "markdown",
   "metadata": {},
   "source": [
    "The `Odometer` column didn't change. Can you guess why?\n",
    "\n",
    "We didn't reassign it."
   ]
  },
  {
   "cell_type": "code",
   "execution_count": null,
   "metadata": {},
   "outputs": [],
   "source": [
    "# Reassign the Odometer column to be miles instead of kilometers\n",
    "car_sales[\"Odometer\"] = car_sales[\"Odometer\"].apply(lambda x: x / 1.6)\n",
    "car_sales"
   ]
  },
  {
   "cell_type": "markdown",
   "metadata": {},
   "source": [
    "If you've never seen a lambda function they can be tricky. What the line above is saying is \"take the value in the `Odometer (KM)` column (`x`) and set it to be itself divided by 1.6\"."
   ]
  },
  {
   "cell_type": "markdown",
   "metadata": {},
   "source": [
    "## Summary\n",
    "\n",
    "### Main topics we covered\n",
    "* [Series](https://pandas.pydata.org/pandas-docs/stable/reference/api/pandas.Series.html) - a single column (can be multiple rows) of values.\n",
    "* [DataFrame](https://pandas.pydata.org/pandas-docs/stable/reference/frame.html) - multiple columns/rows of values (a DataFrame is comprised of multiple Series).\n",
    "* [Importing data](https://pandas.pydata.org/pandas-docs/stable/reference/io.html) - we used [`pd.read_csv()`](https://pandas.pydata.org/pandas-docs/stable/reference/api/pandas.read_csv.html#pandas.read_csv) to read in a CSV (comma-separated values) file but there are multiple options for reading data.\n",
    "* [Exporting data](https://pandas.pydata.org/pandas-docs/stable/reference/io.html) - we exported our data using `to_csv()`, however there are multiple methods of exporting data.\n",
    "* [Describing data](https://pandas.pydata.org/pandas-docs/stable/getting_started/basics.html#attributes-and-underlying-data)\n",
    "    * `df.dtypes` - find the datatypes present in a dataframe.\n",
    "    * `df.describe()` - find various numerical features of a dataframe.\n",
    "    * `df.info()` - find the number of rows and whether or not any of them are empty.\n",
    "* [Viewing and selecting data](https://pandas.pydata.org/pandas-docs/stable/getting_started/10min.html#viewing-data)\n",
    "    * `df.head()` - view the first 5 rows of `df`.\n",
    "    * `df.loc` & `df.iloc` - select specific parts of a dataframe.\n",
    "    * `df['A']` - select column `A` of `df`.\n",
    "    * `df[df['A'] > 1000]` - selection column `A` rows with values over 1000 of `df`.\n",
    "    * `df['A']` - plot values from column `A` using matplotlib (defaults to line graph).\n",
    "* [Manipulating data and performing operations](https://pandas.pydata.org/pandas-docs/stable/getting_started/10min.html#operations) - pandas has many built-in functions you can use to manipulate data, also many of the Python operators (e.g. `+`, `-`, `>`, `==`) work with pandas.\n",
    " \n",
    "### Further reading\n",
    "Since pandas is such a large library, it would be impossible to cover it all in one go. \n",
    "\n",
    "The following are some resources you might want to look into for more.\n",
    "* [Python for Data Analysis by Wes McKinney](https://www.amazon.com.au/Python-Data-Analysis-Wrangling-IPython-ebook/dp/B075X4LT6K) - possibly the most complete text of the pandas library (apart from the documentation itself) written by the creator of pandas.\n",
    "* [Data Manipulation with Pandas (section of Python Data Science Handbook by Jake VanderPlas)](https://jakevdp.github.io/PythonDataScienceHandbook/03.00-introduction-to-pandas.html) - a very hands-on approach to many of the main functions in the pandas library.  \n",
    "\n",
    "### Exercises\n",
    "After completing this notebook, you next thing should be to try out some more pandas code of your own.\n",
    "\n",
    "I'd suggest at least going through number 1 (write out all the code yourself), a couple from number 2 (again, write out the code yourself) and spend an hour reading number 3 (this is vast but keep it in mind).\n",
    "\n",
    "1. [10-minute introduction to pandas](https://pandas.pydata.org/pandas-docs/stable/getting_started/10min.html) - go through all the functions here and be sure to write out the code yourself.\n",
    "2. [Pandas getting started tutorial](https://pandas.pydata.org/pandas-docs/stable/getting_started/intro_tutorials/index.html) - pick a couple from here which spark your interest and go through them both writing out the code for your self.\n",
    "3. [Pandas essential basic functionality](https://pandas.pydata.org/pandas-docs/stable/getting_started/basics.html) - spend an hour reading this and bookmark it for whenever you need to come back for an overview of pandas."
   ]
  }
 ],
 "metadata": {
  "kernelspec": {
   "display_name": "Python 3",
   "language": "python",
   "name": "python3"
  },
  "language_info": {
   "codemirror_mode": {
    "name": "ipython",
    "version": 3
   },
   "file_extension": ".py",
   "mimetype": "text/x-python",
   "name": "python",
   "nbconvert_exporter": "python",
   "pygments_lexer": "ipython3",
   "version": "3.8.6"
  },
  "toc": {
   "base_numbering": 1,
   "nav_menu": {},
   "number_sections": true,
   "sideBar": true,
   "skip_h1_title": false,
   "title_cell": "Table of Contents",
   "title_sidebar": "Contents",
   "toc_cell": false,
   "toc_position": {},
   "toc_section_display": true,
   "toc_window_display": false
  },
  "varInspector": {
   "cols": {
    "lenName": 16,
    "lenType": 16,
    "lenVar": 40
   },
   "kernels_config": {
    "python": {
     "delete_cmd_postfix": "",
     "delete_cmd_prefix": "del ",
     "library": "var_list.py",
     "varRefreshCmd": "print(var_dic_list())"
    },
    "r": {
     "delete_cmd_postfix": ") ",
     "delete_cmd_prefix": "rm(",
     "library": "var_list.r",
     "varRefreshCmd": "cat(var_dic_list()) "
    }
   },
   "types_to_exclude": [
    "module",
    "function",
    "builtin_function_or_method",
    "instance",
    "_Feature"
   ],
   "window_display": false
  }
 },
 "nbformat": 4,
 "nbformat_minor": 2
}
