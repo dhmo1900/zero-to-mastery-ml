{
 "cells": [
  {
   "cell_type": "markdown",
   "metadata": {},
   "source": [
    "# Introduction to Matplotlib\n",
    "\n",
    "Get straight into plotting data, that's what we're focused on.\n",
    "\n",
    "Video 0 will be concepts and contain details like anatomy of a figure. The rest of the videos will be pure code based.\n",
    "\n",
    "0. Concepts in Matplotlib\n",
    "1. 2 ways of creating plots (pyplot & OO) - use the OO method\n",
    "2. Plotting data (NumPy arrays), line, scatter, bar, hist, subplots\n",
    "3. Plotting data directly with Pandas (using the pandas matplotlib wrapper) \n",
    "4. Plotting data (pandas DataFrames) with the OO method, line, scatter, bar, hist, subplots\n",
    "5. Cutomizing your plots, `limits`, `colors`, `styles`, `legends`\n",
    "6. Saving plots"
   ]
  },
  {
   "cell_type": "markdown",
   "metadata": {},
   "source": [
    "## 0. Concepts in Matplotlib\n",
    "* What is Matplotlib?\n",
    "* Why Matplotlib?\n",
    "* Anatomy of a figure\n",
    "* Where does Matplotlib fit into the ecosystem?\n",
    "    * A Matplotlib workflow"
   ]
  },
  {
   "cell_type": "markdown",
   "metadata": {},
   "source": [
    "## 1. 2 ways of creating plots\n",
    "- `pyplot()`\n",
    "- `OO` - https://matplotlib.org/api/_as_gen/matplotlib.pyplot.subplots.html\n",
    "- Matplotlib recommends the OO API\n",
    "    * https://matplotlib.org/tutorials/introductory/pyplot.html#sphx-glr-tutorials-introductory-pyplot-py\n",
    "    * https://matplotlib.org/3.1.1/tutorials/introductory/lifecycle.html\n",
    "    \n",
    "Start by importing `Matplotlib` and setting up the `%matplotlib inline` magic command."
   ]
  },
  {
   "cell_type": "code",
   "execution_count": null,
   "metadata": {},
   "outputs": [],
   "source": [
    "# Import matplotlib and setup the figures to display within the notebook\n",
    "%matplotlib inline\n",
    "import matplotlib.pyplot as plt"
   ]
  },
  {
   "cell_type": "code",
   "execution_count": null,
   "metadata": {},
   "outputs": [],
   "source": [
    "# Create a simple plot, without the semi-colon\n",
    "plt.plot()"
   ]
  },
  {
   "cell_type": "code",
   "execution_count": null,
   "metadata": {},
   "outputs": [],
   "source": [
    "# With the semi-colon\n",
    "plt.plot();"
   ]
  },
  {
   "cell_type": "code",
   "execution_count": null,
   "metadata": {},
   "outputs": [],
   "source": [
    "# You could use plt.show() if you want\n",
    "plt.plot()\n",
    "plt.show()"
   ]
  },
  {
   "cell_type": "code",
   "execution_count": null,
   "metadata": {},
   "outputs": [],
   "source": [
    "# Let's add some data\n",
    "plt.plot([1, 2, 3, 4])"
   ]
  },
  {
   "cell_type": "code",
   "execution_count": null,
   "metadata": {},
   "outputs": [],
   "source": [
    "# Create some data\n",
    "x = [1, 2, 3, 4]\n",
    "y = [11, 22, 33, 44]"
   ]
  },
  {
   "cell_type": "code",
   "execution_count": null,
   "metadata": {},
   "outputs": [],
   "source": [
    "# With a semi-colon and now a y value\n",
    "plt.plot(x, y);"
   ]
  },
  {
   "cell_type": "code",
   "execution_count": null,
   "metadata": {},
   "outputs": [],
   "source": [
    "# Creating a plot with the OO verison, confusing way first\n",
    "fig = plt.figure()\n",
    "ax = fig.add_subplot()\n",
    "plt.show()"
   ]
  },
  {
   "cell_type": "code",
   "execution_count": null,
   "metadata": {},
   "outputs": [],
   "source": [
    "# Confusing #2\n",
    "fig = plt.figure()\n",
    "ax = fig.add_axes([1, 1, 1, 1])\n",
    "ax.plot(x, y)\n",
    "plt.show()"
   ]
  },
  {
   "cell_type": "code",
   "execution_count": null,
   "metadata": {},
   "outputs": [],
   "source": [
    "# Easier and more robust going forward (what we're going to use)\n",
    "fig, ax = plt.subplots()\n",
    "ax.plot(x, y);"
   ]
  },
  {
   "cell_type": "markdown",
   "metadata": {},
   "source": [
    "### -> Show figure/plot anatomy here <-"
   ]
  },
  {
   "cell_type": "code",
   "execution_count": null,
   "metadata": {},
   "outputs": [],
   "source": [
    "# This is where the object orientated name comes from \n",
    "type(fig), type(ax)"
   ]
  },
  {
   "cell_type": "code",
   "execution_count": null,
   "metadata": {},
   "outputs": [],
   "source": [
    "# A matplotlib workflow\n",
    "\n",
    "# 0. Import and get matplotlib ready\n",
    "%matplotlib inline\n",
    "import matplotlib.pyplot as plt\n",
    "\n",
    "# 1. Prepare data\n",
    "x = [1, 2, 3, 4]\n",
    "y = [11, 22, 33, 44]\n",
    "\n",
    "# 2. Setup plot\n",
    "fig, ax = plt.subplots(figsize=(10,10))\n",
    "\n",
    "# 3. Plot data\n",
    "ax.plot(x, y)\n",
    "\n",
    "# 4. Customize plot\n",
    "ax.set(title=\"Sample Simple Plot\", xlabel=\"x-axis\", ylabel=\"y-axis\")\n",
    "\n",
    "# 5. Save & show\n",
    "fig.savefig(\"../images/simple-plot.png\")"
   ]
  },
  {
   "cell_type": "markdown",
   "metadata": {},
   "source": [
    "## 2. Making the most common type of plots using NumPy arrays\n",
    "Most of figuring out what kind of plot to use is getting a feel for the data, then see what suits it best.\n",
    "\n",
    "Matplotlib visualizations are built off NumPy arrays. So in this section we'll build some of the most common types of plots using NumPy arrays.\n",
    "\n",
    "- `line`\n",
    "- `scatter`\n",
    "- `bar`\n",
    "- `hist`\n",
    "- `subplots()`\n",
    "\n",
    "To make sure we have access to NumPy, we'll import it as `np`."
   ]
  },
  {
   "cell_type": "code",
   "execution_count": null,
   "metadata": {},
   "outputs": [],
   "source": [
    "import numpy as np"
   ]
  },
  {
   "cell_type": "markdown",
   "metadata": {},
   "source": [
    "### Line\n",
    "\n",
    "Line is the default type of visualization in Matplotlib. Usually, unless specified otherwise, your plots will start out as lines."
   ]
  },
  {
   "cell_type": "code",
   "execution_count": null,
   "metadata": {},
   "outputs": [],
   "source": [
    "# Create an array\n",
    "x = np.linspace(0, 10, 100)\n",
    "x[:10]"
   ]
  },
  {
   "cell_type": "code",
   "execution_count": null,
   "metadata": {},
   "outputs": [],
   "source": [
    "# The default plot is line\n",
    "fig, ax = plt.subplots()\n",
    "ax.plot(x, x**2);"
   ]
  },
  {
   "cell_type": "markdown",
   "metadata": {},
   "source": [
    "### Scatter"
   ]
  },
  {
   "cell_type": "code",
   "execution_count": null,
   "metadata": {},
   "outputs": [],
   "source": [
    "# Need to recreate our figure and axis instances when we want a new figure\n",
    "fig, ax = plt.subplots()\n",
    "ax.scatter(x, np.exp(x));"
   ]
  },
  {
   "cell_type": "code",
   "execution_count": null,
   "metadata": {},
   "outputs": [],
   "source": [
    "fig, ax = plt.subplots()\n",
    "ax.scatter(x, np.sin(x));"
   ]
  },
  {
   "cell_type": "markdown",
   "metadata": {},
   "source": [
    "### Bar\n",
    "* Vertical\n",
    "* Horizontal"
   ]
  },
  {
   "cell_type": "code",
   "execution_count": null,
   "metadata": {},
   "outputs": [],
   "source": [
    "# You can make plots from a dictionary\n",
    "nut_butter_prices = {\"Almond butter\": 10,\n",
    "                     \"Peanut butter\": 8,\n",
    "                     \"Cashew butter\": 12}\n",
    "fig, ax = plt.subplots()\n",
    "ax.bar(nut_butter_prices.keys(), nut_butter_prices.values())\n",
    "ax.set(title=\"Dan's Nut Butter Store\", ylabel=\"Price ($)\");"
   ]
  },
  {
   "cell_type": "code",
   "execution_count": null,
   "metadata": {},
   "outputs": [],
   "source": [
    "fig, ax = plt.subplots()\n",
    "ax.barh(list(nut_butter_prices.keys()), list(nut_butter_prices.values()));"
   ]
  },
  {
   "cell_type": "markdown",
   "metadata": {},
   "source": [
    "### Histogram (hist)\n",
    "\n",
    "* Could show image of normal distribution here"
   ]
  },
  {
   "cell_type": "code",
   "execution_count": null,
   "metadata": {},
   "outputs": [],
   "source": [
    "# Make some data from a normal distribution\n",
    "x = np.random.randn(1000) # pulls data from a normal distribution\n",
    "\n",
    "fig, ax = plt.subplots()\n",
    "ax.hist(x);"
   ]
  },
  {
   "cell_type": "code",
   "execution_count": null,
   "metadata": {},
   "outputs": [],
   "source": [
    "x = np.random.random(1000) # random data from random distribution\n",
    "\n",
    "fig, ax = plt.subplots()\n",
    "ax.hist(x);"
   ]
  },
  {
   "cell_type": "markdown",
   "metadata": {},
   "source": [
    "### Subplots\n",
    "* Multiple plots on one figure\n",
    "https://matplotlib.org/3.1.1/gallery/recipes/create_subplots.html"
   ]
  },
  {
   "cell_type": "code",
   "execution_count": null,
   "metadata": {},
   "outputs": [],
   "source": [
    "# Option 1: Create multiple subplots\n",
    "fig, ((ax1, ax2), (ax3, ax4)) = plt.subplots(nrows=2, \n",
    "                                             ncols=2, \n",
    "                                             figsize=(10, 5))\n",
    "\n",
    "# Plot data to each axis\n",
    "ax1.plot(x, x/2);\n",
    "ax2.scatter(np.random.random(10), np.random.random(10));\n",
    "ax3.bar(nut_butter_prices.keys(), nut_butter_prices.values());\n",
    "ax4.hist(np.random.randn(1000));"
   ]
  },
  {
   "cell_type": "code",
   "execution_count": null,
   "metadata": {},
   "outputs": [],
   "source": [
    "# Option 2: Create multiple subplots\n",
    "fig, ax = plt.subplots(nrows=2, ncols=2, figsize=(10, 5))\n",
    "\n",
    "# Index to plot data\n",
    "ax[0, 0].plot(x, x/2);\n",
    "ax[0, 1].scatter(np.random.random(10), np.random.random(10));\n",
    "ax[1, 0].bar(nut_butter_prices.keys(), nut_butter_prices.values());\n",
    "ax[1, 1].hist(np.random.randn(1000));"
   ]
  },
  {
   "cell_type": "markdown",
   "metadata": {},
   "source": [
    "## 3. Plotting data directly with pandas\n",
    "This section uses the pandas `pd.plot()` method on a DataFrame to plot columns directly.\n",
    "\n",
    "* https://datatofish.com/plot-dataframe-pandas/\n",
    "* https://pandas.pydata.org/pandas-docs/stable/user_guide/visualization.html\n",
    "\n",
    "* `line`\n",
    "* `scatter`\n",
    "* `bar`\n",
    "* `hist`\n",
    "* `df.plot(subplots=True, figsize=(6, 6))`\n",
    "\n",
    "To plot data with pandas, we first have to import it as `pd`."
   ]
  },
  {
   "cell_type": "code",
   "execution_count": null,
   "metadata": {},
   "outputs": [],
   "source": [
    "import pandas as pd"
   ]
  },
  {
   "cell_type": "markdown",
   "metadata": {},
   "source": [
    "Now we need some data to check out."
   ]
  },
  {
   "cell_type": "code",
   "execution_count": null,
   "metadata": {},
   "outputs": [],
   "source": [
    "# Let's import the car_sales dataset\n",
    "car_sales = pd.read_csv(\"../data/car-sales.csv\")\n",
    "car_sales"
   ]
  },
  {
   "cell_type": "markdown",
   "metadata": {},
   "source": [
    "### Line\n",
    "* Concept\n",
    "* DataFrame\n",
    "\n",
    "Often, reading things won't make sense. Practice writing code for yourself, get it out of the docs and into your workspace. See what happens when you run it.\n",
    "\n",
    "Let's start with trying to replicate the pandas visualization documents."
   ]
  },
  {
   "cell_type": "code",
   "execution_count": null,
   "metadata": {},
   "outputs": [],
   "source": [
    "# Start with some dummy data\n",
    "ts = pd.Series(np.random.randn(1000),\n",
    "               index=pd.date_range('1/1/2020', periods=1000))\n",
    "ts"
   ]
  },
  {
   "cell_type": "code",
   "execution_count": null,
   "metadata": {},
   "outputs": [],
   "source": [
    "# What does cumsum() do?\n",
    "ts.cumsum()"
   ]
  },
  {
   "cell_type": "code",
   "execution_count": null,
   "metadata": {},
   "outputs": [],
   "source": [
    "ts.cumsum().plot();"
   ]
  },
  {
   "cell_type": "markdown",
   "metadata": {},
   "source": [
    "### Working with actual data\n",
    "\n",
    "Let's do a little data manipulation on our `car_sales` DataFrame."
   ]
  },
  {
   "cell_type": "code",
   "execution_count": null,
   "metadata": {},
   "outputs": [],
   "source": [
    "# Remove price column symbols\n",
    "car_sales[\"Price\"] = car_sales[\"Price\"].str.replace('[\\$\\,\\.]', '')\n",
    "car_sales"
   ]
  },
  {
   "cell_type": "code",
   "execution_count": null,
   "metadata": {},
   "outputs": [],
   "source": [
    "# Remove last two zeros\n",
    "car_sales[\"Price\"] = car_sales[\"Price\"].str[:-2]\n",
    "car_sales"
   ]
  },
  {
   "cell_type": "code",
   "execution_count": null,
   "metadata": {},
   "outputs": [],
   "source": [
    "# Add a date column\n",
    "car_sales[\"Sale Date\"] = pd.date_range(\"1/1/2020\", periods=len(car_sales))\n",
    "car_sales"
   ]
  },
  {
   "cell_type": "code",
   "execution_count": null,
   "metadata": {},
   "outputs": [],
   "source": [
    "# Make total sales column (doesn't work, adds as string)\n",
    "#car_sales[\"Total Sales\"] = car_sales[\"Price\"].cumsum()\n",
    "\n",
    "# Oops... want them as int's not string\n",
    "car_sales[\"Total Sales\"] = car_sales[\"Price\"].astype(int).cumsum()\n",
    "car_sales"
   ]
  },
  {
   "cell_type": "code",
   "execution_count": null,
   "metadata": {},
   "outputs": [],
   "source": [
    "car_sales.plot(x='Sale Date', y='Total Sales');"
   ]
  },
  {
   "cell_type": "markdown",
   "metadata": {},
   "source": [
    "### Scatter\n",
    "* Concept\n",
    "* DataFrame"
   ]
  },
  {
   "cell_type": "code",
   "execution_count": null,
   "metadata": {},
   "outputs": [],
   "source": [
    "# Doesn't work\n",
    "car_sales.plot(x=\"Odometer (KM)\", y=\"Price\", kind=\"scatter\")"
   ]
  },
  {
   "cell_type": "code",
   "execution_count": null,
   "metadata": {},
   "outputs": [],
   "source": [
    "# Convert Price to int\n",
    "car_sales[\"Price\"] = car_sales[\"Price\"].astype(int)\n",
    "car_sales.plot(x=\"Odometer (KM)\", y=\"Price\", kind='scatter');"
   ]
  },
  {
   "cell_type": "markdown",
   "metadata": {},
   "source": [
    "### Bar\n",
    "* Concept\n",
    "* DataFrame"
   ]
  },
  {
   "cell_type": "code",
   "execution_count": null,
   "metadata": {},
   "outputs": [],
   "source": [
    "x = np.random.rand(10, 4)\n",
    "x"
   ]
  },
  {
   "cell_type": "code",
   "execution_count": null,
   "metadata": {},
   "outputs": [],
   "source": [
    "df = pd.DataFrame(x, columns=['a', 'b', 'c', 'd'])\n",
    "df"
   ]
  },
  {
   "cell_type": "code",
   "execution_count": null,
   "metadata": {},
   "outputs": [],
   "source": [
    "df.plot.bar();"
   ]
  },
  {
   "cell_type": "code",
   "execution_count": null,
   "metadata": {},
   "outputs": [],
   "source": [
    "# Can do the same thing with 'kind' keyword\n",
    "df.plot(kind='bar');"
   ]
  },
  {
   "cell_type": "code",
   "execution_count": null,
   "metadata": {},
   "outputs": [],
   "source": [
    "car_sales.plot(x='Make', y='Odometer (KM)', kind='bar');"
   ]
  },
  {
   "cell_type": "markdown",
   "metadata": {},
   "source": [
    "### Histograms\n"
   ]
  },
  {
   "cell_type": "code",
   "execution_count": null,
   "metadata": {},
   "outputs": [],
   "source": [
    "car_sales[\"Odometer (KM)\"].plot.hist();"
   ]
  },
  {
   "cell_type": "code",
   "execution_count": null,
   "metadata": {},
   "outputs": [],
   "source": [
    "car_sales[\"Odometer (KM)\"].plot(kind=\"hist\");"
   ]
  },
  {
   "cell_type": "code",
   "execution_count": null,
   "metadata": {},
   "outputs": [],
   "source": [
    "# Default number of bins is 10 \n",
    "car_sales[\"Odometer (KM)\"].plot.hist(bins=20);"
   ]
  },
  {
   "cell_type": "code",
   "execution_count": null,
   "metadata": {},
   "outputs": [],
   "source": [
    "car_sales[\"Price\"].plot.hist(bins=10);"
   ]
  },
  {
   "cell_type": "code",
   "execution_count": null,
   "metadata": {},
   "outputs": [],
   "source": [
    "# Let's try with another dataset\n",
    "heart_disease = pd.read_csv(\"../data/heart-disease.csv\")\n",
    "heart_disease.head()"
   ]
  },
  {
   "cell_type": "code",
   "execution_count": null,
   "metadata": {},
   "outputs": [],
   "source": [
    "heart_disease[\"age\"].plot.hist(bins=50);"
   ]
  },
  {
   "cell_type": "markdown",
   "metadata": {},
   "source": [
    "### Subplots\n",
    "* Concept\n",
    "* DataFrame"
   ]
  },
  {
   "cell_type": "code",
   "execution_count": null,
   "metadata": {},
   "outputs": [],
   "source": [
    "heart_disease.head()"
   ]
  },
  {
   "cell_type": "code",
   "execution_count": null,
   "metadata": {},
   "outputs": [],
   "source": [
    "heart_disease.plot.hist(figsize=(10, 30), subplots=True);"
   ]
  },
  {
   "cell_type": "markdown",
   "metadata": {},
   "source": [
    "## 4. Plotting with pandas using the OO method \n",
    "\n",
    "For more complicated plots, you'll want to use the OO method."
   ]
  },
  {
   "cell_type": "code",
   "execution_count": null,
   "metadata": {},
   "outputs": [],
   "source": [
    "# Perform data analysis on patients over 50\n",
    "over_50 = heart_disease[heart_disease[\"age\"] > 50]\n",
    "over_50"
   ]
  },
  {
   "cell_type": "code",
   "execution_count": null,
   "metadata": {},
   "outputs": [],
   "source": [
    "over_50.plot(kind='scatter', \n",
    "             x='age', \n",
    "             y='chol', \n",
    "             c='target', \n",
    "             figsize=(10, 6));"
   ]
  },
  {
   "cell_type": "code",
   "execution_count": null,
   "metadata": {},
   "outputs": [],
   "source": [
    "fig, ax = plt.subplots(figsize=(10, 6))\n",
    "over_50.plot(kind='scatter', \n",
    "             x=\"age\", \n",
    "             y=\"chol\", \n",
    "             c='target', \n",
    "             ax=ax);\n",
    "ax.set_xlim([45, 100]);"
   ]
  },
  {
   "cell_type": "code",
   "execution_count": null,
   "metadata": {},
   "outputs": [],
   "source": [
    "# Make a bit more of a complicated plot\n",
    "\n",
    "# Create the plot\n",
    "fig, ax = plt.subplots(figsize=(10, 6))\n",
    "\n",
    "# Plot the data\n",
    "scatter = ax.scatter(over_50[\"age\"], \n",
    "                     over_50[\"chol\"], \n",
    "                     c=over_50[\"target\"])\n",
    "\n",
    "# Customize the plot\n",
    "ax.set(title=\"Heart Disease and Cholesterol Levels\",\n",
    "       xlabel=\"Age\",\n",
    "       ylabel=\"Cholesterol\");\n",
    "ax.legend(*scatter.legend_elements(), title=\"Target\");"
   ]
  },
  {
   "cell_type": "markdown",
   "metadata": {},
   "source": [
    "What if we wanted a horizontal line going across with the mean of `heart_disease[\"chol\"]`?\n",
    "\n",
    "https://matplotlib.org/3.1.1/api/_as_gen/matplotlib.axes.Axes.axhline.html"
   ]
  },
  {
   "cell_type": "code",
   "execution_count": null,
   "metadata": {},
   "outputs": [],
   "source": [
    "# Make a bit more of a complicated plot\n",
    "\n",
    "# Create the plot\n",
    "fig, ax = plt.subplots(figsize=(10, 6))\n",
    "\n",
    "# Plot the data\n",
    "scatter = ax.scatter(over_50[\"age\"], \n",
    "                     over_50[\"chol\"], \n",
    "                     c=over_50[\"target\"])\n",
    "\n",
    "# Customize the plot\n",
    "ax.set(title=\"Heart Disease and Cholesterol Levels\",\n",
    "       xlabel=\"Age\",\n",
    "       ylabel=\"Cholesterol\");\n",
    "ax.legend(*scatter.legend_elements(), title=\"Target\")\n",
    "\n",
    "# Add a meanline\n",
    "ax.axhline(over_50[\"chol\"].mean(),\n",
    "           linestyle=\"--\");"
   ]
  },
  {
   "cell_type": "markdown",
   "metadata": {},
   "source": [
    "### Adding another plot to existing styled one"
   ]
  },
  {
   "cell_type": "code",
   "execution_count": null,
   "metadata": {},
   "outputs": [],
   "source": [
    "# Setup plot (2 rows, 1 column)\n",
    "fig, (ax0, ax1) = plt.subplots(nrows=2, # 2 rows\n",
    "                               ncols=1, \n",
    "                               sharex=True, \n",
    "                               figsize=(10, 8))\n",
    "\n",
    "# Add data for ax0\n",
    "scatter = ax0.scatter(over_50[\"age\"], \n",
    "                      over_50[\"chol\"], \n",
    "                      c=over_50[\"target\"])\n",
    "# Customize ax0\n",
    "ax0.set(title=\"Heart Disease and Cholesterol Levels\",\n",
    "        ylabel=\"Cholesterol\")\n",
    "ax0.legend(*scatter.legend_elements(), title=\"Target\")\n",
    "\n",
    "# Setup a mean line\n",
    "ax0.axhline(y=over_50[\"chol\"].mean(), \n",
    "            color='b', \n",
    "            linestyle='--', \n",
    "            label=\"Average\")\n",
    "\n",
    "\n",
    "# Add data for ax1\n",
    "scatter = ax1.scatter(over_50[\"age\"], \n",
    "                      over_50[\"thalach\"], \n",
    "                      c=over_50[\"target\"])\n",
    "\n",
    "# Customize ax1\n",
    "ax1.set(title=\"Heart Disease and Max Heart Rate Levels\",\n",
    "        xlabel=\"Age\",\n",
    "        ylabel=\"Max Heart Rate\")\n",
    "ax1.legend(*scatter.legend_elements(), title=\"Target\")\n",
    "\n",
    "# Setup a mean line\n",
    "ax1.axhline(y=over_50[\"thalach\"].mean(), \n",
    "            color='b', \n",
    "            linestyle='--', \n",
    "            label=\"Average\")\n",
    "\n",
    "# Title the figure\n",
    "fig.suptitle('Heart Disease Analysis', fontsize=16, fontweight='bold');"
   ]
  },
  {
   "cell_type": "markdown",
   "metadata": {},
   "source": [
    "## 5. Customizing your plots\n",
    "\n",
    "* `limits (xlim, ylim)`, `colors`, `styles`, `legends`"
   ]
  },
  {
   "cell_type": "markdown",
   "metadata": {},
   "source": [
    "### Style"
   ]
  },
  {
   "cell_type": "code",
   "execution_count": null,
   "metadata": {},
   "outputs": [],
   "source": [
    "plt.style.available"
   ]
  },
  {
   "cell_type": "code",
   "execution_count": null,
   "metadata": {},
   "outputs": [],
   "source": [
    "# Plot before changing style\n",
    "car_sales[\"Price\"].plot();"
   ]
  },
  {
   "cell_type": "code",
   "execution_count": null,
   "metadata": {},
   "outputs": [],
   "source": [
    "# Change the style... \n",
    "plt.style.use('seaborn-whitegrid')"
   ]
  },
  {
   "cell_type": "code",
   "execution_count": null,
   "metadata": {},
   "outputs": [],
   "source": [
    "car_sales[\"Price\"].plot();"
   ]
  },
  {
   "cell_type": "code",
   "execution_count": null,
   "metadata": {},
   "outputs": [],
   "source": [
    "plt.style.use('seaborn')"
   ]
  },
  {
   "cell_type": "code",
   "execution_count": null,
   "metadata": {},
   "outputs": [],
   "source": [
    "car_sales[\"Price\"].plot();"
   ]
  },
  {
   "cell_type": "code",
   "execution_count": null,
   "metadata": {},
   "outputs": [],
   "source": [
    "car_sales.plot(x=\"Odometer (KM)\", y=\"Price\", kind=\"scatter\");"
   ]
  },
  {
   "cell_type": "code",
   "execution_count": null,
   "metadata": {},
   "outputs": [],
   "source": [
    "plt.style.use('ggplot')"
   ]
  },
  {
   "cell_type": "code",
   "execution_count": null,
   "metadata": {},
   "outputs": [],
   "source": [
    "car_sales[\"Price\"].plot.hist();"
   ]
  },
  {
   "cell_type": "markdown",
   "metadata": {},
   "source": [
    "### Changing the title, legend, axes "
   ]
  },
  {
   "cell_type": "code",
   "execution_count": null,
   "metadata": {},
   "outputs": [],
   "source": [
    "x = np.random.randn(10, 4)\n",
    "x"
   ]
  },
  {
   "cell_type": "code",
   "execution_count": null,
   "metadata": {},
   "outputs": [],
   "source": [
    "df = pd.DataFrame(x, columns=['a', 'b', 'c', 'd'])\n",
    "df"
   ]
  },
  {
   "cell_type": "code",
   "execution_count": null,
   "metadata": {},
   "outputs": [],
   "source": [
    "ax = df.plot(kind='bar')\n",
    "type(ax)"
   ]
  },
  {
   "cell_type": "code",
   "execution_count": null,
   "metadata": {},
   "outputs": [],
   "source": [
    "ax = df.plot(kind='bar')\n",
    "ax.set(title=\"Random Number Bar Graph from DataFrame\", \n",
    "       xlabel=\"Row number\", \n",
    "       ylabel=\"Random number\")\n",
    "ax.legend().set_visible(True)"
   ]
  },
  {
   "cell_type": "markdown",
   "metadata": {},
   "source": [
    "### Changing the cmap"
   ]
  },
  {
   "cell_type": "code",
   "execution_count": null,
   "metadata": {},
   "outputs": [],
   "source": [
    "plt.style.use('seaborn-whitegrid')"
   ]
  },
  {
   "cell_type": "code",
   "execution_count": null,
   "metadata": {},
   "outputs": [],
   "source": [
    "# No cmap change\n",
    "fig, ax = plt.subplots(figsize=(10, 6))\n",
    "scatter = ax.scatter(over_50[\"age\"], \n",
    "                     over_50[\"chol\"], \n",
    "                     c=over_50[\"target\"])\n",
    "ax.set(title=\"Heart Disease and Cholesterol Levels\",\n",
    "       xlabel=\"Age\",\n",
    "       ylabel=\"Cholesterol\");\n",
    "ax.axhline(y=over_50[\"chol\"].mean(), \n",
    "           c='b', \n",
    "           linestyle='--', \n",
    "           label=\"Average\");\n",
    "ax.legend(*scatter.legend_elements(), title=\"Target\");"
   ]
  },
  {
   "cell_type": "code",
   "execution_count": null,
   "metadata": {},
   "outputs": [],
   "source": [
    "# Change cmap and horizontal line to be a different colour\n",
    "fig, ax = plt.subplots(figsize=(10, 6))\n",
    "scatter = ax.scatter(over_50[\"age\"], \n",
    "                     over_50[\"chol\"], \n",
    "                     c=over_50[\"target\"], \n",
    "                     cmap=\"winter\")\n",
    "ax.set(title=\"Heart Disease and Cholesterol Levels\",\n",
    "       xlabel=\"Age\",\n",
    "       ylabel=\"Cholesterol\")\n",
    "ax.axhline(y=over_50[\"chol\"].mean(), \n",
    "           color='r', \n",
    "           linestyle='--', \n",
    "           label=\"Average\");\n",
    "ax.legend(*scatter.legend_elements(), title=\"Target\");"
   ]
  },
  {
   "cell_type": "markdown",
   "metadata": {},
   "source": [
    "### Changing the xlim & ylim"
   ]
  },
  {
   "cell_type": "code",
   "execution_count": null,
   "metadata": {},
   "outputs": [],
   "source": [
    "## Before the change (we've had color updates)\n",
    "\n",
    "fig, (ax0, ax1) = plt.subplots(nrows=2, ncols=1, sharex=True, figsize=(10, 10))\n",
    "scatter = ax0.scatter(over_50[\"age\"], \n",
    "                      over_50[\"chol\"], \n",
    "                      c=over_50[\"target\"],\n",
    "                      cmap='winter')\n",
    "ax0.set(title=\"Heart Disease and Cholesterol Levels\",\n",
    "        ylabel=\"Cholesterol\")\n",
    "\n",
    "# Setup a mean line\n",
    "ax0.axhline(y=over_50[\"chol\"].mean(), \n",
    "            color='r', \n",
    "            linestyle='--', \n",
    "            label=\"Average\");\n",
    "ax0.legend(*scatter.legend_elements(), title=\"Target\")\n",
    "\n",
    "# Axis 1, 1 (row 1, column 1)\n",
    "scatter = ax1.scatter(over_50[\"age\"], \n",
    "                      over_50[\"thalach\"], \n",
    "                      c=over_50[\"target\"],\n",
    "                      cmap='winter')\n",
    "ax1.set(title=\"Heart Disease and Max Heart Rate Levels\",\n",
    "        xlabel=\"Age\",\n",
    "        ylabel=\"Max Heart Rate\")\n",
    "\n",
    "# Setup a mean line\n",
    "ax1.axhline(y=over_50[\"thalach\"].mean(), \n",
    "            color='r', \n",
    "            linestyle='--', \n",
    "            label=\"Average\");\n",
    "ax1.legend(*scatter.legend_elements(), title=\"Target\")\n",
    "\n",
    "# Title the figure\n",
    "fig.suptitle('Heart Disease Analysis', fontsize=16, fontweight='bold');"
   ]
  },
  {
   "cell_type": "code",
   "execution_count": null,
   "metadata": {},
   "outputs": [],
   "source": [
    "## After adding in different x & y limitations\n",
    "\n",
    "fig, (ax0, ax1) = plt.subplots(nrows=2, ncols=1, sharex=True, figsize=(10, 10))\n",
    "scatter = ax0.scatter(over_50[\"age\"], \n",
    "                      over_50[\"chol\"], \n",
    "                      c=over_50[\"target\"],\n",
    "                      cmap='winter')\n",
    "ax0.set(title=\"Heart Disease and Cholesterol Levels\",\n",
    "        ylabel=\"Cholesterol\")\n",
    "\n",
    "# Set the x axis\n",
    "ax0.set_xlim([50, 80])\n",
    "\n",
    "# Setup a mean line\n",
    "ax0.axhline(y=over_50[\"chol\"].mean(), \n",
    "            color='r', \n",
    "            linestyle='--', \n",
    "            label=\"Average\");\n",
    "ax0.legend(*scatter.legend_elements(), title=\"Target\")\n",
    "\n",
    "# Axis 1, 1 (row 1, column 1)\n",
    "scatter = ax1.scatter(over_50[\"age\"], \n",
    "                      over_50[\"thalach\"], \n",
    "                      c=over_50[\"target\"],\n",
    "                      cmap='winter')\n",
    "ax1.set(title=\"Heart Disease and Max Heart Rate Levels\",\n",
    "        xlabel=\"Age\",\n",
    "        ylabel=\"Max Heart Rate\")\n",
    "\n",
    "# Set the y axis\n",
    "ax1.set_ylim([60, 200])\n",
    "\n",
    "# Setup a mean line\n",
    "ax1.axhline(y=over_50[\"thalach\"].mean(), \n",
    "            color='r', \n",
    "            linestyle='--', \n",
    "            label=\"Average\");\n",
    "ax1.legend(*scatter.legend_elements(), title=\"Target\")\n",
    "\n",
    "# Title the figure\n",
    "fig.suptitle('Heart Disease Analysis', fontsize=16, fontweight='bold');"
   ]
  },
  {
   "cell_type": "markdown",
   "metadata": {},
   "source": [
    "## 6. Saving plots\n",
    "* Saving plots to images using `figsave()`\n",
    "\n",
    "If you're doing something like this often, to save writing excess code, you might put it into a function.\n",
    "\n",
    "A function which follows the Matplotlib workflow."
   ]
  },
  {
   "cell_type": "code",
   "execution_count": null,
   "metadata": {},
   "outputs": [],
   "source": [
    "# Axis 0, 1 (row 0, column 0)\n",
    "fig, (ax0, ax1) = plt.subplots(nrows=2, ncols=1, sharex=True, figsize=(10, 10))\n",
    "scatter = ax0.scatter(over_50[\"age\"], \n",
    "                      over_50[\"chol\"], \n",
    "                      c=over_50[\"target\"],\n",
    "                      cmap='winter')\n",
    "ax0.set(title=\"Heart Disease and Cholesterol Levels\",\n",
    "        ylabel=\"Cholesterol\")\n",
    "\n",
    "# Set the x axis\n",
    "ax0.set_xlim([50, 80])\n",
    "\n",
    "# Setup a mean line\n",
    "ax0.axhline(y=over_50[\"chol\"].mean(), \n",
    "            color='r', \n",
    "            linestyle='--', \n",
    "            label=\"Average\");\n",
    "ax0.legend(*scatter.legend_elements(), title=\"Target\")\n",
    "\n",
    "# Axis 1, 1 (row 1, column 1)\n",
    "scatter = ax1.scatter(over_50[\"age\"], \n",
    "                      over_50[\"thalach\"], \n",
    "                      c=over_50[\"target\"],\n",
    "                      cmap='winter')\n",
    "ax1.set(title=\"Heart Disease and Max Heart Rate Levels\",\n",
    "        xlabel=\"Age\",\n",
    "        ylabel=\"Max Heart Rate\")\n",
    "\n",
    "# Set the y axis\n",
    "ax1.set_ylim([60, 200])\n",
    "\n",
    "# Setup a mean line\n",
    "ax1.axhline(y=over_50[\"thalach\"].mean(), \n",
    "            color='r', \n",
    "            linestyle='--', \n",
    "            label=\"Average\");\n",
    "ax1.legend(*scatter.legend_elements(), title=\"Target\")\n",
    "\n",
    "# Title the figure\n",
    "fig.suptitle('Heart Disease Analysis', fontsize=16, fontweight='bold');"
   ]
  },
  {
   "cell_type": "code",
   "execution_count": null,
   "metadata": {},
   "outputs": [],
   "source": [
    "# Check the supported filetypes\n",
    "fig.canvas.get_supported_filetypes()"
   ]
  },
  {
   "cell_type": "code",
   "execution_count": null,
   "metadata": {},
   "outputs": [],
   "source": [
    "fig"
   ]
  },
  {
   "cell_type": "code",
   "execution_count": null,
   "metadata": {},
   "outputs": [],
   "source": [
    "# Save the file\n",
    "fig.savefig(\"../images/heart-disease-analysis.png\")"
   ]
  },
  {
   "cell_type": "code",
   "execution_count": null,
   "metadata": {},
   "outputs": [],
   "source": [
    "# Resets figure\n",
    "fig, ax = plt.subplots()"
   ]
  },
  {
   "cell_type": "code",
   "execution_count": null,
   "metadata": {},
   "outputs": [],
   "source": [
    "# Potential function\n",
    "\n",
    "def plotting_workflow(data):\n",
    "    # 1. Manipulate data\n",
    "    \n",
    "    # 2. Create plot\n",
    "    \n",
    "    # 3. Plot data\n",
    "    \n",
    "    # 4. Customize plot\n",
    "    \n",
    "    # 5. Save plot\n",
    "    \n",
    "    # 6. Return plot\n",
    "    \n",
    "    return plot"
   ]
  }
 ],
 "metadata": {
  "kernelspec": {
   "display_name": "Python 3",
   "language": "python",
   "name": "python3"
  },
  "language_info": {
   "codemirror_mode": {
    "name": "ipython",
    "version": 3
   },
   "file_extension": ".py",
   "mimetype": "text/x-python",
   "name": "python",
   "nbconvert_exporter": "python",
   "pygments_lexer": "ipython3",
   "version": "3.8.6"
  },
  "toc": {
   "base_numbering": 1,
   "nav_menu": {},
   "number_sections": true,
   "sideBar": true,
   "skip_h1_title": false,
   "title_cell": "Table of Contents",
   "title_sidebar": "Contents",
   "toc_cell": false,
   "toc_position": {},
   "toc_section_display": true,
   "toc_window_display": false
  },
  "varInspector": {
   "cols": {
    "lenName": 16,
    "lenType": 16,
    "lenVar": 40
   },
   "kernels_config": {
    "python": {
     "delete_cmd_postfix": "",
     "delete_cmd_prefix": "del ",
     "library": "var_list.py",
     "varRefreshCmd": "print(var_dic_list())"
    },
    "r": {
     "delete_cmd_postfix": ") ",
     "delete_cmd_prefix": "rm(",
     "library": "var_list.r",
     "varRefreshCmd": "cat(var_dic_list()) "
    }
   },
   "types_to_exclude": [
    "module",
    "function",
    "builtin_function_or_method",
    "instance",
    "_Feature"
   ],
   "window_display": false
  }
 },
 "nbformat": 4,
 "nbformat_minor": 2
}
